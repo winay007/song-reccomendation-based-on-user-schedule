{
 "cells": [
  {
   "cell_type": "code",
   "execution_count": 248,
   "id": "596b86fb",
   "metadata": {},
   "outputs": [],
   "source": [
    "import pandas as pd\n",
    "import numpy as np\n",
    "import matplotlib.pyplot as plt\n",
    "from sklearn.cluster import KMeans\n",
    "from sklearn.preprocessing import LabelEncoder,MinMaxScaler"
   ]
  },
  {
   "cell_type": "code",
   "execution_count": 249,
   "id": "04a5305c",
   "metadata": {},
   "outputs": [
    {
     "data": {
      "text/html": [
       "<div>\n",
       "<style scoped>\n",
       "    .dataframe tbody tr th:only-of-type {\n",
       "        vertical-align: middle;\n",
       "    }\n",
       "\n",
       "    .dataframe tbody tr th {\n",
       "        vertical-align: top;\n",
       "    }\n",
       "\n",
       "    .dataframe thead th {\n",
       "        text-align: right;\n",
       "    }\n",
       "</style>\n",
       "<table border=\"1\" class=\"dataframe\">\n",
       "  <thead>\n",
       "    <tr style=\"text-align: right;\">\n",
       "      <th></th>\n",
       "      <th>Unnamed: 0</th>\n",
       "      <th>index</th>\n",
       "      <th>source</th>\n",
       "      <th>timestamp</th>\n",
       "      <th>values</th>\n",
       "      <th>activity</th>\n",
       "    </tr>\n",
       "  </thead>\n",
       "  <tbody>\n",
       "    <tr>\n",
       "      <th>0</th>\n",
       "      <td>0</td>\n",
       "      <td>14889</td>\n",
       "      <td>heart_rate</td>\n",
       "      <td>49:01.9</td>\n",
       "      <td>['65.0', '1']</td>\n",
       "      <td>Video games</td>\n",
       "    </tr>\n",
       "    <tr>\n",
       "      <th>1</th>\n",
       "      <td>1</td>\n",
       "      <td>14890</td>\n",
       "      <td>heart_rate</td>\n",
       "      <td>49:01.9</td>\n",
       "      <td>['64.0', '1']</td>\n",
       "      <td>Video games</td>\n",
       "    </tr>\n",
       "    <tr>\n",
       "      <th>2</th>\n",
       "      <td>2</td>\n",
       "      <td>14891</td>\n",
       "      <td>heart_rate</td>\n",
       "      <td>49:01.9</td>\n",
       "      <td>['64.0', '0']</td>\n",
       "      <td>Video games</td>\n",
       "    </tr>\n",
       "    <tr>\n",
       "      <th>3</th>\n",
       "      <td>3</td>\n",
       "      <td>14892</td>\n",
       "      <td>heart_rate</td>\n",
       "      <td>49:01.9</td>\n",
       "      <td>['65.0', '0']</td>\n",
       "      <td>Video games</td>\n",
       "    </tr>\n",
       "    <tr>\n",
       "      <th>4</th>\n",
       "      <td>4</td>\n",
       "      <td>14893</td>\n",
       "      <td>heart_rate</td>\n",
       "      <td>49:01.9</td>\n",
       "      <td>['64.0', '0']</td>\n",
       "      <td>Video games</td>\n",
       "    </tr>\n",
       "    <tr>\n",
       "      <th>...</th>\n",
       "      <td>...</td>\n",
       "      <td>...</td>\n",
       "      <td>...</td>\n",
       "      <td>...</td>\n",
       "      <td>...</td>\n",
       "      <td>...</td>\n",
       "    </tr>\n",
       "    <tr>\n",
       "      <th>56046</th>\n",
       "      <td>56046</td>\n",
       "      <td>137190</td>\n",
       "      <td>heart_rate</td>\n",
       "      <td>13:17.3</td>\n",
       "      <td>['53.0', '1']</td>\n",
       "      <td>Video games</td>\n",
       "    </tr>\n",
       "    <tr>\n",
       "      <th>56047</th>\n",
       "      <td>56047</td>\n",
       "      <td>137191</td>\n",
       "      <td>heart_rate</td>\n",
       "      <td>13:17.3</td>\n",
       "      <td>['52.0', '1']</td>\n",
       "      <td>Video games</td>\n",
       "    </tr>\n",
       "    <tr>\n",
       "      <th>56048</th>\n",
       "      <td>56048</td>\n",
       "      <td>137192</td>\n",
       "      <td>heart_rate</td>\n",
       "      <td>13:17.3</td>\n",
       "      <td>['53.0', '1']</td>\n",
       "      <td>Video games</td>\n",
       "    </tr>\n",
       "    <tr>\n",
       "      <th>56049</th>\n",
       "      <td>56049</td>\n",
       "      <td>137193</td>\n",
       "      <td>heart_rate</td>\n",
       "      <td>13:17.3</td>\n",
       "      <td>['54.0', '1']</td>\n",
       "      <td>Video games</td>\n",
       "    </tr>\n",
       "    <tr>\n",
       "      <th>56050</th>\n",
       "      <td>56050</td>\n",
       "      <td>137194</td>\n",
       "      <td>heart_rate</td>\n",
       "      <td>13:19.6</td>\n",
       "      <td>['53.0', '1']</td>\n",
       "      <td>Video games</td>\n",
       "    </tr>\n",
       "  </tbody>\n",
       "</table>\n",
       "<p>56051 rows × 6 columns</p>\n",
       "</div>"
      ],
      "text/plain": [
       "       Unnamed: 0   index      source timestamp         values     activity\n",
       "0               0   14889  heart_rate   49:01.9  ['65.0', '1']  Video games\n",
       "1               1   14890  heart_rate   49:01.9  ['64.0', '1']  Video games\n",
       "2               2   14891  heart_rate   49:01.9  ['64.0', '0']  Video games\n",
       "3               3   14892  heart_rate   49:01.9  ['65.0', '0']  Video games\n",
       "4               4   14893  heart_rate   49:01.9  ['64.0', '0']  Video games\n",
       "...           ...     ...         ...       ...            ...          ...\n",
       "56046       56046  137190  heart_rate   13:17.3  ['53.0', '1']  Video games\n",
       "56047       56047  137191  heart_rate   13:17.3  ['52.0', '1']  Video games\n",
       "56048       56048  137192  heart_rate   13:17.3  ['53.0', '1']  Video games\n",
       "56049       56049  137193  heart_rate   13:17.3  ['54.0', '1']  Video games\n",
       "56050       56050  137194  heart_rate   13:19.6  ['53.0', '1']  Video games\n",
       "\n",
       "[56051 rows x 6 columns]"
      ]
     },
     "execution_count": 249,
     "metadata": {},
     "output_type": "execute_result"
    }
   ],
   "source": [
    "df = pd.read_csv(\"activityData.csv\")\n",
    "df"
   ]
  },
  {
   "cell_type": "code",
   "execution_count": 250,
   "id": "bc3803ae",
   "metadata": {},
   "outputs": [
    {
     "name": "stderr",
     "output_type": "stream",
     "text": [
      "C:\\Users\\admin\\AppData\\Local\\Temp\\ipykernel_10448\\3399605942.py:8: SettingWithCopyWarning: \n",
      "A value is trying to be set on a copy of a slice from a DataFrame\n",
      "\n",
      "See the caveats in the documentation: https://pandas.pydata.org/pandas-docs/stable/user_guide/indexing.html#returning-a-view-versus-a-copy\n",
      "  df[\"value\"][i] = df[\"values\"][i][2:f_occur]\n"
     ]
    }
   ],
   "source": [
    "df[\"value\"] = 0\n",
    "# for i in range(len(df[\"values\"])):\n",
    "#     df[\"value\"][i] = 0\n",
    "    \n",
    "\n",
    "for i in range(len(df[\"values\"])):\n",
    "    f_occur= df[\"values\"][i][2:].find(\"'\") + 2\n",
    "    df[\"value\"][i] = df[\"values\"][i][2:f_occur]\n",
    "\n",
    "# df[\"values\"][0][2:6]"
   ]
  },
  {
   "cell_type": "code",
   "execution_count": 251,
   "id": "e1656dbf",
   "metadata": {
    "scrolled": true
   },
   "outputs": [
    {
     "data": {
      "text/html": [
       "<div>\n",
       "<style scoped>\n",
       "    .dataframe tbody tr th:only-of-type {\n",
       "        vertical-align: middle;\n",
       "    }\n",
       "\n",
       "    .dataframe tbody tr th {\n",
       "        vertical-align: top;\n",
       "    }\n",
       "\n",
       "    .dataframe thead th {\n",
       "        text-align: right;\n",
       "    }\n",
       "</style>\n",
       "<table border=\"1\" class=\"dataframe\">\n",
       "  <thead>\n",
       "    <tr style=\"text-align: right;\">\n",
       "      <th></th>\n",
       "      <th>activity</th>\n",
       "      <th>encoded_y</th>\n",
       "    </tr>\n",
       "  </thead>\n",
       "  <tbody>\n",
       "    <tr>\n",
       "      <th>20853</th>\n",
       "      <td>Cooking</td>\n",
       "      <td>0</td>\n",
       "    </tr>\n",
       "    <tr>\n",
       "      <th>8486</th>\n",
       "      <td>Eat</td>\n",
       "      <td>1</td>\n",
       "    </tr>\n",
       "    <tr>\n",
       "      <th>36840</th>\n",
       "      <td>Football</td>\n",
       "      <td>2</td>\n",
       "    </tr>\n",
       "    <tr>\n",
       "      <th>20489</th>\n",
       "      <td>In bus</td>\n",
       "      <td>3</td>\n",
       "    </tr>\n",
       "    <tr>\n",
       "      <th>4093</th>\n",
       "      <td>In computer</td>\n",
       "      <td>4</td>\n",
       "    </tr>\n",
       "    <tr>\n",
       "      <th>183</th>\n",
       "      <td>In vehicle</td>\n",
       "      <td>5</td>\n",
       "    </tr>\n",
       "    <tr>\n",
       "      <th>19854</th>\n",
       "      <td>Meeting</td>\n",
       "      <td>6</td>\n",
       "    </tr>\n",
       "    <tr>\n",
       "      <th>26441</th>\n",
       "      <td>Movie</td>\n",
       "      <td>7</td>\n",
       "    </tr>\n",
       "    <tr>\n",
       "      <th>30540</th>\n",
       "      <td>Pause</td>\n",
       "      <td>8</td>\n",
       "    </tr>\n",
       "    <tr>\n",
       "      <th>10240</th>\n",
       "      <td>Phone was out of the pocket (forgot)</td>\n",
       "      <td>9</td>\n",
       "    </tr>\n",
       "    <tr>\n",
       "      <th>1403</th>\n",
       "      <td>Picnic</td>\n",
       "      <td>10</td>\n",
       "    </tr>\n",
       "    <tr>\n",
       "      <th>42553</th>\n",
       "      <td>Shop</td>\n",
       "      <td>11</td>\n",
       "    </tr>\n",
       "    <tr>\n",
       "      <th>46219</th>\n",
       "      <td>Shopping&amp; wearing</td>\n",
       "      <td>12</td>\n",
       "    </tr>\n",
       "    <tr>\n",
       "      <th>13767</th>\n",
       "      <td>Train</td>\n",
       "      <td>13</td>\n",
       "    </tr>\n",
       "    <tr>\n",
       "      <th>0</th>\n",
       "      <td>Video games</td>\n",
       "      <td>14</td>\n",
       "    </tr>\n",
       "    <tr>\n",
       "      <th>8728</th>\n",
       "      <td>Walk</td>\n",
       "      <td>15</td>\n",
       "    </tr>\n",
       "    <tr>\n",
       "      <th>5567</th>\n",
       "      <td>Watching TV</td>\n",
       "      <td>16</td>\n",
       "    </tr>\n",
       "  </tbody>\n",
       "</table>\n",
       "</div>"
      ],
      "text/plain": [
       "                                   activity  encoded_y\n",
       "20853                               Cooking          0\n",
       "8486                                    Eat          1\n",
       "36840                              Football          2\n",
       "20489                                In bus          3\n",
       "4093                            In computer          4\n",
       "183                              In vehicle          5\n",
       "19854                               Meeting          6\n",
       "26441                                 Movie          7\n",
       "30540                                 Pause          8\n",
       "10240  Phone was out of the pocket (forgot)          9\n",
       "1403                                Picnic          10\n",
       "42553                                  Shop         11\n",
       "46219                     Shopping& wearing         12\n",
       "13767                                 Train         13\n",
       "0                               Video games         14\n",
       "8728                                   Walk         15\n",
       "5567                            Watching TV         16"
      ]
     },
     "execution_count": 251,
     "metadata": {},
     "output_type": "execute_result"
    }
   ],
   "source": [
    "encoder = LabelEncoder()\n",
    "encoder.fit(df[\"activity\"])\n",
    "encoded_y = encoder.transform(df[\"activity\"])\n",
    "\n",
    "df[\"encoded_y\"] = encoded_y\n",
    "\n",
    "target = pd.DataFrame({'activity':df['activity'].tolist(),'encoded_y':encoded_y}).drop_duplicates().sort_values(['encoded_y'],ascending=True)\n",
    "target\n",
    "\n"
   ]
  },
  {
   "cell_type": "code",
   "execution_count": 252,
   "id": "853db30f",
   "metadata": {
    "scrolled": true
   },
   "outputs": [
    {
     "name": "stderr",
     "output_type": "stream",
     "text": [
      "C:\\Users\\admin\\AppData\\Local\\Temp\\ipykernel_10448\\111900370.py:3: SettingWithCopyWarning: \n",
      "A value is trying to be set on a copy of a slice from a DataFrame.\n",
      "Try using .loc[row_indexer,col_indexer] = value instead\n",
      "\n",
      "See the caveats in the documentation: https://pandas.pydata.org/pandas-docs/stable/user_guide/indexing.html#returning-a-view-versus-a-copy\n",
      "  df1[\"val2\"] = 1\n"
     ]
    }
   ],
   "source": [
    "df1 = df[[\"value\"]]\n",
    "\n",
    "df1[\"val2\"] = 1"
   ]
  },
  {
   "cell_type": "code",
   "execution_count": 253,
   "id": "e6a6ae3b",
   "metadata": {
    "scrolled": true
   },
   "outputs": [
    {
     "name": "stderr",
     "output_type": "stream",
     "text": [
      "c:\\python\\lib\\site-packages\\sklearn\\cluster\\_kmeans.py:870: FutureWarning: The default value of `n_init` will change from 10 to 'auto' in 1.4. Set the value of `n_init` explicitly to suppress the warning\n",
      "  warnings.warn(\n"
     ]
    },
    {
     "data": {
      "text/html": [
       "<style>#sk-container-id-17 {color: black;background-color: white;}#sk-container-id-17 pre{padding: 0;}#sk-container-id-17 div.sk-toggleable {background-color: white;}#sk-container-id-17 label.sk-toggleable__label {cursor: pointer;display: block;width: 100%;margin-bottom: 0;padding: 0.3em;box-sizing: border-box;text-align: center;}#sk-container-id-17 label.sk-toggleable__label-arrow:before {content: \"▸\";float: left;margin-right: 0.25em;color: #696969;}#sk-container-id-17 label.sk-toggleable__label-arrow:hover:before {color: black;}#sk-container-id-17 div.sk-estimator:hover label.sk-toggleable__label-arrow:before {color: black;}#sk-container-id-17 div.sk-toggleable__content {max-height: 0;max-width: 0;overflow: hidden;text-align: left;background-color: #f0f8ff;}#sk-container-id-17 div.sk-toggleable__content pre {margin: 0.2em;color: black;border-radius: 0.25em;background-color: #f0f8ff;}#sk-container-id-17 input.sk-toggleable__control:checked~div.sk-toggleable__content {max-height: 200px;max-width: 100%;overflow: auto;}#sk-container-id-17 input.sk-toggleable__control:checked~label.sk-toggleable__label-arrow:before {content: \"▾\";}#sk-container-id-17 div.sk-estimator input.sk-toggleable__control:checked~label.sk-toggleable__label {background-color: #d4ebff;}#sk-container-id-17 div.sk-label input.sk-toggleable__control:checked~label.sk-toggleable__label {background-color: #d4ebff;}#sk-container-id-17 input.sk-hidden--visually {border: 0;clip: rect(1px 1px 1px 1px);clip: rect(1px, 1px, 1px, 1px);height: 1px;margin: -1px;overflow: hidden;padding: 0;position: absolute;width: 1px;}#sk-container-id-17 div.sk-estimator {font-family: monospace;background-color: #f0f8ff;border: 1px dotted black;border-radius: 0.25em;box-sizing: border-box;margin-bottom: 0.5em;}#sk-container-id-17 div.sk-estimator:hover {background-color: #d4ebff;}#sk-container-id-17 div.sk-parallel-item::after {content: \"\";width: 100%;border-bottom: 1px solid gray;flex-grow: 1;}#sk-container-id-17 div.sk-label:hover label.sk-toggleable__label {background-color: #d4ebff;}#sk-container-id-17 div.sk-serial::before {content: \"\";position: absolute;border-left: 1px solid gray;box-sizing: border-box;top: 0;bottom: 0;left: 50%;z-index: 0;}#sk-container-id-17 div.sk-serial {display: flex;flex-direction: column;align-items: center;background-color: white;padding-right: 0.2em;padding-left: 0.2em;position: relative;}#sk-container-id-17 div.sk-item {position: relative;z-index: 1;}#sk-container-id-17 div.sk-parallel {display: flex;align-items: stretch;justify-content: center;background-color: white;position: relative;}#sk-container-id-17 div.sk-item::before, #sk-container-id-17 div.sk-parallel-item::before {content: \"\";position: absolute;border-left: 1px solid gray;box-sizing: border-box;top: 0;bottom: 0;left: 50%;z-index: -1;}#sk-container-id-17 div.sk-parallel-item {display: flex;flex-direction: column;z-index: 1;position: relative;background-color: white;}#sk-container-id-17 div.sk-parallel-item:first-child::after {align-self: flex-end;width: 50%;}#sk-container-id-17 div.sk-parallel-item:last-child::after {align-self: flex-start;width: 50%;}#sk-container-id-17 div.sk-parallel-item:only-child::after {width: 0;}#sk-container-id-17 div.sk-dashed-wrapped {border: 1px dashed gray;margin: 0 0.4em 0.5em 0.4em;box-sizing: border-box;padding-bottom: 0.4em;background-color: white;}#sk-container-id-17 div.sk-label label {font-family: monospace;font-weight: bold;display: inline-block;line-height: 1.2em;}#sk-container-id-17 div.sk-label-container {text-align: center;}#sk-container-id-17 div.sk-container {/* jupyter's `normalize.less` sets `[hidden] { display: none; }` but bootstrap.min.css set `[hidden] { display: none !important; }` so we also need the `!important` here to be able to override the default hidden behavior on the sphinx rendered scikit-learn.org. See: https://github.com/scikit-learn/scikit-learn/issues/21755 */display: inline-block !important;position: relative;}#sk-container-id-17 div.sk-text-repr-fallback {display: none;}</style><div id=\"sk-container-id-17\" class=\"sk-top-container\"><div class=\"sk-text-repr-fallback\"><pre>KMeans(n_clusters=4)</pre><b>In a Jupyter environment, please rerun this cell to show the HTML representation or trust the notebook. <br />On GitHub, the HTML representation is unable to render, please try loading this page with nbviewer.org.</b></div><div class=\"sk-container\" hidden><div class=\"sk-item\"><div class=\"sk-estimator sk-toggleable\"><input class=\"sk-toggleable__control sk-hidden--visually\" id=\"sk-estimator-id-17\" type=\"checkbox\" checked><label for=\"sk-estimator-id-17\" class=\"sk-toggleable__label sk-toggleable__label-arrow\">KMeans</label><div class=\"sk-toggleable__content\"><pre>KMeans(n_clusters=4)</pre></div></div></div></div></div>"
      ],
      "text/plain": [
       "KMeans(n_clusters=4)"
      ]
     },
     "execution_count": 253,
     "metadata": {},
     "output_type": "execute_result"
    }
   ],
   "source": [
    "kmeans = KMeans(n_clusters=4)\n",
    "kmeans.fit(df1)"
   ]
  },
  {
   "cell_type": "code",
   "execution_count": 254,
   "id": "b7e94388",
   "metadata": {},
   "outputs": [
    {
     "data": {
      "text/plain": [
       "array([[ 59.99876577,   1.        ],\n",
       "       [ 71.01894532,   1.        ],\n",
       "       [117.41315225,   1.        ],\n",
       "       [ 85.39927703,   1.        ]])"
      ]
     },
     "execution_count": 254,
     "metadata": {},
     "output_type": "execute_result"
    }
   ],
   "source": [
    "kmeans.cluster_centers_"
   ]
  },
  {
   "cell_type": "code",
   "execution_count": 255,
   "id": "ff06e56d",
   "metadata": {},
   "outputs": [],
   "source": [
    "label = kmeans.predict(df1)"
   ]
  },
  {
   "cell_type": "code",
   "execution_count": 256,
   "id": "3974d8f5",
   "metadata": {},
   "outputs": [],
   "source": [
    "k_labels = kmeans.labels_"
   ]
  },
  {
   "cell_type": "code",
   "execution_count": 257,
   "id": "01d8762a",
   "metadata": {
    "scrolled": false
   },
   "outputs": [
    {
     "data": {
      "image/png": "[encoded data removed]",
      "text/plain": [
       "<Figure size 640x480 with 1 Axes>"
      ]
     },
     "metadata": {},
     "output_type": "display_data"
    }
   ],
   "source": [
    "centroids = kmeans.cluster_centers_\n",
    "\n",
    "df1 = np.array(df1)\n",
    "u_labels = np.unique(k_labels)\n",
    " \n",
    "#plotting the results:\n",
    " \n",
    "for i in u_labels:\n",
    "    plt.scatter(df1[k_labels == i , 0] , df1[k_labels == i , 1] , label = i)\n",
    "plt.scatter(centroids[:,0] , centroids[:,1] , s = 50, color = 'k')\n",
    "plt.legend()\n",
    "plt.show()"
   ]
  },
  {
   "cell_type": "code",
   "execution_count": 258,
   "id": "1162a4fb",
   "metadata": {},
   "outputs": [
    {
     "name": "stdout",
     "output_type": "stream",
     "text": [
      "[['65.0' 1]\n",
      " ['64.0' 1]\n",
      " ['64.0' 1]\n",
      " ...\n",
      " ['53.0' 1]\n",
      " ['54.0' 1]\n",
      " ['53.0' 1]]\n"
     ]
    },
    {
     "data": {
      "image/png": "[encoded data removed]",
      "text/plain": [
       "<Figure size 640x480 with 1 Axes>"
      ]
     },
     "metadata": {},
     "output_type": "display_data"
    }
   ],
   "source": [
    "u_labels = np.unique(k_labels)\n",
    "\n",
    "df1 = np.array(df1)\n",
    "\n",
    "print(df1)\n",
    " \n",
    "#plotting the results:\n",
    " \n",
    "for i in u_labels:\n",
    "    plt.scatter(df1[k_labels == i , 0] , df1[k_labels == i , 1] , label = i)\n",
    "plt.legend()\n",
    "plt.show()"
   ]
  },
  {
   "cell_type": "code",
   "execution_count": 266,
   "id": "8c7900c3",
   "metadata": {
    "scrolled": true
   },
   "outputs": [],
   "source": [
    "df[\"k_means\"] = k_labels \n",
    "\n",
    "actt = np.unique(df[\"encoded_y\"])\n",
    "\n",
    "u_act = [{0: 0,1 :0, 2: 0, 3:0},{0: 0,1 :0, 2: 0, 3:0},{0: 0,1 :0, 2: 0, 3:0},{0: 0,1 :0, 2: 0, 3:0},{0: 0,1 :0, 2: 0, 3:0},{0: 0,1 :0, 2: 0, 3:0},{0: 0,1 :0, 2: 0, 3:0},{0: 0,1 :0, 2: 0, 3:0},{0: 0,1 :0, 2: 0, 3:0},{0: 0,1 :0, 2: 0, 3:0},{0: 0,1 :0, 2: 0, 3:0},{0: 0,1 :0, 2: 0, 3:0},{0: 0,1 :0, 2: 0, 3:0},{0: 0,1 :0, 2: 0, 3:0},{0: 0,1 :0, 2: 0, 3:0},{0: 0,1 :0, 2: 0, 3:0},{0: 0,1 :0, 2: 0, 3:0}] \n",
    "\n",
    "for i in range(len(actt)):\n",
    "    u_act[i] = {0: 0,1 :0, 2: 0, 3:0}\n",
    "\n",
    "for i in range(len(df[\"encoded_y\"])):\n",
    "    u_act[df[\"encoded_y\"][i]][df[\"k_means\"][i]] =  u_act[df[\"encoded_y\"][i]][df[\"k_means\"][i]] + 1"
   ]
  },
  {
   "cell_type": "code",
   "execution_count": 267,
   "id": "d283bcd1",
   "metadata": {},
   "outputs": [
    {
     "name": "stdout",
     "output_type": "stream",
     "text": [
      "[{0: 1778, 1: 1424, 2: 61, 3: 784}, {0: 1107, 1: 1577, 2: 40, 3: 548}, {0: 185, 1: 208, 2: 213, 3: 371}, {0: 1907, 1: 2123, 2: 71, 3: 960}, {0: 4068, 1: 4325, 2: 68, 3: 1547}, {0: 884, 1: 1044, 2: 630, 3: 766}, {0: 687, 1: 507, 2: 0, 3: 99}, {0: 2507, 1: 2796, 2: 7, 3: 595}, {0: 332, 1: 804, 2: 2, 3: 388}, {0: 362, 1: 197, 2: 10, 3: 55}, {0: 1063, 1: 1103, 2: 0, 3: 127}, {0: 56, 1: 37, 2: 0, 3: 0}, {0: 535, 1: 485, 2: 0, 3: 85}, {0: 1521, 1: 1856, 2: 10, 3: 743}, {0: 1207, 1: 1357, 2: 243, 3: 385}, {0: 3163, 1: 3570, 2: 44, 3: 1670}, {0: 514, 1: 234, 2: 0, 3: 6}]\n"
     ]
    }
   ],
   "source": [
    "print(u_act)"
   ]
  },
  {
   "cell_type": "code",
   "execution_count": 278,
   "id": "51673123",
   "metadata": {},
   "outputs": [],
   "source": [
    "ui = []\n",
    "for i in range(len(u_act)):\n",
    "     ui.append(list(u_act[i].keys())[list(u_act[i].values()).index(max(u_act[i].values()))])"
   ]
  },
  {
   "cell_type": "code",
   "execution_count": 279,
   "id": "27d354bd",
   "metadata": {},
   "outputs": [
    {
     "name": "stdout",
     "output_type": "stream",
     "text": [
      "[0, 1, 3, 1, 1, 1, 0, 1, 1, 0, 1, 0, 0, 1, 1, 1, 0]\n"
     ]
    }
   ],
   "source": [
    "print(ui)"
   ]
  },
  {
   "cell_type": "code",
   "execution_count": 280,
   "id": "907b28fc",
   "metadata": {},
   "outputs": [],
   "source": [
    "target[\"clusterLabel\"] = ui"
   ]
  },
  {
   "cell_type": "code",
   "execution_count": 281,
   "id": "8e37f22b",
   "metadata": {},
   "outputs": [
    {
     "name": "stdout",
     "output_type": "stream",
     "text": [
      "                                   activity  encoded_y  clusterLabel\n",
      "20853                               Cooking          0             0\n",
      "8486                                    Eat          1             1\n",
      "36840                              Football          2             3\n",
      "20489                                In bus          3             1\n",
      "4093                            In computer          4             1\n",
      "183                              In vehicle          5             1\n",
      "19854                               Meeting          6             0\n",
      "26441                                 Movie          7             1\n",
      "30540                                 Pause          8             1\n",
      "10240  Phone was out of the pocket (forgot)          9             0\n",
      "1403                                Picnic          10             1\n",
      "42553                                  Shop         11             0\n",
      "46219                     Shopping& wearing         12             0\n",
      "13767                                 Train         13             1\n",
      "0                               Video games         14             1\n",
      "8728                                   Walk         15             1\n",
      "5567                            Watching TV         16             0\n"
     ]
    }
   ],
   "source": [
    "print(target)"
   ]
  },
  {
   "cell_type": "code",
   "execution_count": null,
   "id": "f45b9e51",
   "metadata": {},
   "outputs": [],
   "source": []
  }
 ],
 "metadata": {
  "kernelspec": {
   "display_name": "Python 3 (ipykernel)",
   "language": "python",
   "name": "python3"
  },
  "language_info": {
   "codemirror_mode": {
    "name": "ipython",
    "version": 3
   },
   "file_extension": ".py",
   "mimetype": "text/x-python",
   "name": "python",
   "nbconvert_exporter": "python",
   "pygments_lexer": "ipython3",
   "version": "3.9.2"
  }
 },
 "nbformat": 4,
 "nbformat_minor": 5
}
