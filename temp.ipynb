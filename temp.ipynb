{
 "cells": [
  {
   "cell_type": "code",
   "execution_count": 47,
   "id": "6a153f0f",
   "metadata": {},
   "outputs": [],
   "source": [
    "import pandas as pd\n",
    "\n",
    "df = pd.read_csv(\"reportOG1.csv\")\n",
    "\n",
    "# df['from'] = pd.to_datetime(df['from'])\n",
    "# df['to'] = pd.to_datetime(df['to'])\n",
    "\n",
    "# df['date'] = df['from'].dt.date\n",
    "# df['time'] = df['from'].dt.time\n",
    "\n",
    "# df = df.sort_values([\"date\",\"time\"],axis=0,ascending=True)"
   ]
  },
  {
   "cell_type": "code",
   "execution_count": 48,
   "id": "a7191d16",
   "metadata": {},
   "outputs": [],
   "source": [
    "# Delete rows with specified data\n",
    "df = df[df['activity_type'] != 'Phone was out of the pocket (forgot)']"
   ]
  },
  {
   "cell_type": "code",
   "execution_count": 49,
   "id": "03090634",
   "metadata": {},
   "outputs": [],
   "source": [
    "df.to_csv(\"reportOG1.csv\")"
   ]
  },
  {
   "cell_type": "code",
   "execution_count": null,
   "id": "27acb744",
   "metadata": {},
   "outputs": [],
   "source": []
  }
 ],
 "metadata": {
  "kernelspec": {
   "display_name": "Python 3 (ipykernel)",
   "language": "python",
   "name": "python3"
  },
  "language_info": {
   "codemirror_mode": {
    "name": "ipython",
    "version": 3
   },
   "file_extension": ".py",
   "mimetype": "text/x-python",
   "name": "python",
   "nbconvert_exporter": "python",
   "pygments_lexer": "ipython3",
   "version": "3.9.2"
  }
 },
 "nbformat": 4,
 "nbformat_minor": 5
}
