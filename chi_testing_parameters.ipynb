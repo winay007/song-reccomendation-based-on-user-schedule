{
 "cells": [
  {
   "cell_type": "code",
   "execution_count": 14,
   "id": "e2b4c37a",
   "metadata": {},
   "outputs": [],
   "source": [
    "from sklearn.feature_selection import chi2\n",
    "import pandas as pd\n",
    "from sklearn.preprocessing import LabelEncoder,MinMaxScaler\n",
    "import numpy as np\n",
    "\n",
    "df = pd.read_csv(\"data/data_moods.csv\")"
   ]
  },
  {
   "cell_type": "code",
   "execution_count": 15,
   "id": "883dfd1d",
   "metadata": {},
   "outputs": [
    {
     "data": {
      "text/plain": [
       "array([[ 8.66000e-01,  1.37000e-01,  7.30000e-01, ..., -8.20100e+00,\n",
       "         7.67000e-02,  1.18523e+02],\n",
       "       [ 3.81000e-01,  1.89000e-02,  8.32000e-01, ..., -5.06900e+00,\n",
       "         4.92000e-02,  1.20255e+02],\n",
       "       [ 3.46000e-01,  9.13000e-01,  1.39000e-01, ..., -1.53260e+01,\n",
       "         3.21000e-02,  1.36168e+02],\n",
       "       ...,\n",
       "       [ 6.42000e-01,  7.86000e-01,  3.74000e-01, ..., -9.38600e+00,\n",
       "         5.45000e-02,  1.24099e+02],\n",
       "       [ 5.61000e-01,  9.13000e-01,  8.48000e-02, ..., -1.50990e+01,\n",
       "         4.04000e-02,  1.02128e+02],\n",
       "       [ 3.77000e-01,  9.94000e-01,  1.56000e-02, ..., -2.84350e+01,\n",
       "         3.97000e-02,  1.40179e+02]])"
      ]
     },
     "execution_count": 15,
     "metadata": {},
     "output_type": "execute_result"
    }
   ],
   "source": [
    "col_features = df.columns[7:-3]\n",
    "# X2 = np.array(df[col_features])\n",
    "X= MinMaxScaler().fit_transform(df[col_features])\n",
    "Y = df['mood']\n",
    "X2\n",
    "\n"
   ]
  },
  {
   "cell_type": "code",
   "execution_count": 16,
   "id": "980327fa",
   "metadata": {},
   "outputs": [],
   "source": [
    "f_p_values=chi2(X,Y)"
   ]
  },
  {
   "cell_type": "code",
   "execution_count": 23,
   "id": "9f3b14d3",
   "metadata": {},
   "outputs": [
    {
     "data": {
      "text/plain": [
       "0    1.446670e-02\n",
       "1    2.370810e-39\n",
       "2    2.031673e-24\n",
       "3    4.108846e-52\n",
       "4    7.279425e-03\n",
       "5    1.295302e-12\n",
       "6    1.273703e-04\n",
       "7    2.810787e-03\n",
       "8    2.031202e-01\n",
       "dtype: float64"
      ]
     },
     "execution_count": 23,
     "metadata": {},
     "output_type": "execute_result"
    }
   ],
   "source": [
    "p_values.sort_index(ascending=True)"
   ]
  },
  {
   "cell_type": "code",
   "execution_count": null,
   "id": "760e5fa1",
   "metadata": {},
   "outputs": [],
   "source": []
  }
 ],
 "metadata": {
  "kernelspec": {
   "display_name": "Python 3 (ipykernel)",
   "language": "python",
   "name": "python3"
  },
  "language_info": {
   "codemirror_mode": {
    "name": "ipython",
    "version": 3
   },
   "file_extension": ".py",
   "mimetype": "text/x-python",
   "name": "python",
   "nbconvert_exporter": "python",
   "pygments_lexer": "ipython3",
   "version": "3.9.2"
  }
 },
 "nbformat": 4,
 "nbformat_minor": 5
}
